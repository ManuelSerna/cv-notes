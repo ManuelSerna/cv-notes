{
 "cells": [
  {
   "cell_type": "code",
   "execution_count": 190,
   "metadata": {},
   "outputs": [],
   "source": [
    "# Back Projection Demo\n",
    "#  Compute sinusoid of image and reconstruct image\n",
    "# Manuel Serna-Aguilera"
   ]
  },
  {
   "cell_type": "code",
   "execution_count": 191,
   "metadata": {},
   "outputs": [],
   "source": [
    "import cv2 # to convert to grayscale\n",
    "import matplotlib.pyplot as plt\n",
    "from matplotlib import transforms\n",
    "import math\n",
    "import numpy as np"
   ]
  },
  {
   "cell_type": "code",
   "execution_count": 192,
   "metadata": {},
   "outputs": [],
   "source": [
    "# Read in image\n",
    "img_name = 'rectangle.png'\n",
    "img = cv2.imread(img_name)\n",
    "img = cv2.cvtColor(img, cv2.COLOR_BGR2GRAY)"
   ]
  },
  {
   "cell_type": "code",
   "execution_count": 193,
   "metadata": {},
   "outputs": [
    {
     "name": "stdout",
     "output_type": "stream",
     "text": [
      "shape: (255, 255)\n"
     ]
    },
    {
     "data": {
      "text/plain": [
       "<matplotlib.image.AxesImage at 0x7f7d96655850>"
      ]
     },
     "execution_count": 193,
     "metadata": {},
     "output_type": "execute_result"
    },
    {
     "data": {
      "image/png": "[encoded data removed]",
      "text/plain": [
       "<Figure size 432x288 with 1 Axes>"
      ]
     },
     "metadata": {
      "needs_background": "light"
     },
     "output_type": "display_data"
    }
   ],
   "source": [
    "# Image info\n",
    "height = img.shape[0]\n",
    "width = img.shape[1]\n",
    "print('shape: {}'.format(img.shape))\n",
    "plt.imshow(img, cmap='gray')"
   ]
  },
  {
   "cell_type": "code",
   "execution_count": 194,
   "metadata": {},
   "outputs": [],
   "source": [
    "# Delta to rotate image by (deg)\n",
    "#delta = 0.5\n",
    "delta = 1.0"
   ]
  },
  {
   "cell_type": "code",
   "execution_count": 195,
   "metadata": {},
   "outputs": [],
   "source": [
    "# Plot rotated grayscale image\n",
    "def rotate_and_plot(img, degrees):\n",
    "    height = img.shape[0]\n",
    "    width = img.shape[1]\n",
    "    \n",
    "    tr = transforms.Affine2D().rotate_deg(degrees) # rotate counter-clockwise\n",
    "    fig = plt.figure()\n",
    "    ax = fig.add_subplot(111)\n",
    "    ax.imshow(img, cmap='gray', extent=[-width, width, -height, height], transform=tr+ax.transData)"
   ]
  },
  {
   "cell_type": "code",
   "execution_count": 196,
   "metadata": {},
   "outputs": [],
   "source": [
    "# Return rotated grayscale image (counter-clockwise)\n",
    "# NOTE: image assumed to be grayscale\n",
    "def rotate_img(img, degrees):\n",
    "    rows,cols = img.shape\n",
    "    \n",
    "    # Rotate x-deg with respect to center of image\n",
    "    M = cv2.getRotationMatrix2D((cols/2,rows/2), degrees, 1)\n",
    "    rotated_img = cv2.warpAffine(img, M, (cols,rows))\n",
    "    \n",
    "    return rotated_img"
   ]
  },
  {
   "cell_type": "code",
   "execution_count": 197,
   "metadata": {},
   "outputs": [],
   "source": [
    "#rotate_and_plot(img, delta)\n",
    "#rotated = rotate_img(img, 45.0) # example: rotate by 45 deg\n",
    "#plt.imshow(rotated, cmap='gray')"
   ]
  },
  {
   "cell_type": "code",
   "execution_count": 198,
   "metadata": {},
   "outputs": [
    {
     "data": {
      "text/plain": [
       "'\\nmax_angle = \\nS = np.zeros((max_angle, height)) # matrix to store projections\\ntheta = -90.0\\n\\nfor angle_index in range(max_angle):\\n    # Rotate image by delta\\n    rotated_img = rotate_img(img, theta)\\n    \\n    # Take sum of rows for current rotated image\\n    for i in range(height):\\n        S[angle_index, i] = np.sum(rotated_img[i])\\n    \\n    # Update rotation angle\\n    theta += delta\\n#'"
      ]
     },
     "execution_count": 198,
     "metadata": {},
     "output_type": "execute_result"
    }
   ],
   "source": [
    "# Get sum of rows for all angles\n",
    "''' OLD WAY\n",
    "tot_angles = int(180/delta) # number of times to loop\n",
    "S = np.zeros((tot_angles, height)) # matrix to store computations\n",
    "angle_index = 0 # angle index for matrix S\n",
    "current_angle = 0.0 # keeps track of current angle rotation in loop\n",
    "rotated = img # progressively rotate image\n",
    "\n",
    "while current_angle < 180.0:\n",
    "    print('angle={}'.format(current_angle))\n",
    "    \n",
    "    # Rotate image by delta\n",
    "    rotated = rotate_img(rotated, delta)\n",
    "    \n",
    "    # Take sum of rows for current rotated image\n",
    "    for i in range(height):\n",
    "        S[angle_index, i] = np.sum(rotated[i])\n",
    "    \n",
    "    # Update angle\n",
    "    current_angle += delta\n",
    "    angle_index += 1\n",
    "#'''\n",
    "\n",
    "#''' NEW WAY\n",
    "tot_angles = int(180.0/delta) # number of times to loop\n",
    "current_angle = 0.0 # keeps track of current rotation angle in loop\n",
    "S = np.zeros((tot_angles, height)) # Sinusoid \"image\"\n",
    "angle_index = 0 # angle index for matrix S\n",
    "\n",
    "while current_angle < 180:\n",
    "    #print('angle={}'.format(current_angle))\n",
    "    \n",
    "    # Rotate image\n",
    "    rotated = rotate_img(img, current_angle)\n",
    "    \n",
    "    # Perform radon transform, store as 'angle_index'-th column in S\n",
    "    #t = math.radians(current_angle)\n",
    "    for i in range(height):\n",
    "        S[angle_index, i] += np.sum (rotated[i])\n",
    "        #fr j in range(width):\n",
    "        #   # NOTE: loop body only diff!!!        \n",
    "        #   #S[angle_index, i] += (rotated[i, j]*math.cos(t) + rotated[i, j]*math.sin(t))\n",
    "    \n",
    "    # Update angle\n",
    "    current_angle += delta\n",
    "    angle_index += 1\n",
    "\n",
    "\n",
    "'''\n",
    "max_angle = \n",
    "S = np.zeros((max_angle, height)) # matrix to store projections\n",
    "theta = -90.0\n",
    "\n",
    "for angle_index in range(max_angle):\n",
    "    # Rotate image by delta\n",
    "    rotated_img = rotate_img(img, theta)\n",
    "    \n",
    "    # Take sum of rows for current rotated image\n",
    "    for i in range(height):\n",
    "        S[angle_index, i] = np.sum(rotated_img[i])\n",
    "    \n",
    "    # Update rotation angle\n",
    "    theta += delta\n",
    "#'''"
   ]
  },
  {
   "cell_type": "code",
   "execution_count": 199,
   "metadata": {},
   "outputs": [
    {
     "name": "stdout",
     "output_type": "stream",
     "text": [
      "x-axis same as height of original image.\n"
     ]
    },
    {
     "data": {
      "image/png": "[encoded data removed]",
      "text/plain": [
       "<Figure size 432x288 with 1 Axes>"
      ]
     },
     "metadata": {
      "needs_background": "light"
     },
     "output_type": "display_data"
    }
   ],
   "source": [
    "# Plot sinusoid image\n",
    "#plt.imshow(S, cmap='gray')\n",
    "\n",
    "fig = plt.figure()\n",
    "ax1 = fig.add_subplot(111)\n",
    "ax1.set_ylabel('Angle of Projection')\n",
    "ax1.set_xlabel('Displacement of Projection')\n",
    "ax1.set_title('Sinusoid of {}'.format(img_name))\n",
    "ax1.imshow(S, cmap='gray', origin='lower')\n",
    "print('x-axis same as height of original image.')"
   ]
  },
  {
   "cell_type": "code",
   "execution_count": 203,
   "metadata": {},
   "outputs": [
    {
     "ename": "IndexError",
     "evalue": "index 180 is out of bounds for axis 0 with size 180",
     "output_type": "error",
     "traceback": [
      "\u001b[0;31m---------------------------------------------------------------------------\u001b[0m",
      "\u001b[0;31mIndexError\u001b[0m                                Traceback (most recent call last)",
      "\u001b[0;32m<ipython-input-203-9325a9c819dc>\u001b[0m in \u001b[0;36m<module>\u001b[0;34m\u001b[0m\n\u001b[1;32m     30\u001b[0m \u001b[0;32mfor\u001b[0m \u001b[0mi\u001b[0m \u001b[0;32min\u001b[0m \u001b[0mrange\u001b[0m\u001b[0;34m(\u001b[0m\u001b[0mheight\u001b[0m\u001b[0;34m)\u001b[0m\u001b[0;34m:\u001b[0m\u001b[0;34m\u001b[0m\u001b[0;34m\u001b[0m\u001b[0m\n\u001b[1;32m     31\u001b[0m     \u001b[0;32mfor\u001b[0m \u001b[0mj\u001b[0m \u001b[0;32min\u001b[0m \u001b[0mrange\u001b[0m\u001b[0;34m(\u001b[0m\u001b[0mwidth\u001b[0m\u001b[0;34m)\u001b[0m\u001b[0;34m:\u001b[0m\u001b[0;34m\u001b[0m\u001b[0;34m\u001b[0m\u001b[0m\n\u001b[0;32m---> 32\u001b[0;31m         \u001b[0mR\u001b[0m\u001b[0;34m[\u001b[0m\u001b[0mi\u001b[0m\u001b[0;34m]\u001b[0m\u001b[0;34m[\u001b[0m\u001b[0mj\u001b[0m\u001b[0;34m]\u001b[0m \u001b[0;34m=\u001b[0m \u001b[0mnp\u001b[0m\u001b[0;34m.\u001b[0m\u001b[0msum\u001b[0m\u001b[0;34m(\u001b[0m\u001b[0mS\u001b[0m\u001b[0;34m[\u001b[0m\u001b[0mangle_index\u001b[0m\u001b[0;34m,\u001b[0m \u001b[0mi\u001b[0m\u001b[0;34m]\u001b[0m\u001b[0;34m)\u001b[0m\u001b[0;34m\u001b[0m\u001b[0;34m\u001b[0m\u001b[0m\n\u001b[0m\u001b[1;32m     33\u001b[0m         \u001b[0;31m#for t in range(tot_angles):\u001b[0m\u001b[0;34m\u001b[0m\u001b[0;34m\u001b[0m\u001b[0;34m\u001b[0m\u001b[0m\n\u001b[1;32m     34\u001b[0m         \u001b[0;31m#    R[i][j] += S[t][i]\u001b[0m\u001b[0;34m\u001b[0m\u001b[0;34m\u001b[0m\u001b[0;34m\u001b[0m\u001b[0m\n",
      "\u001b[0;31mIndexError\u001b[0m: index 180 is out of bounds for axis 0 with size 180"
     ]
    }
   ],
   "source": [
    "# Reconstruct image\n",
    "''' OLD WAY\n",
    "R = np.zeros((height, width)) # reconstructed image, call it R\n",
    "\n",
    "tot_angles = int(180.0/delta)\n",
    "angle_index = 0\n",
    "\n",
    "for i in range(height):\n",
    "    for j in range(width):\n",
    "        for theta in range(tot_angles):\n",
    "            R[i][j] += S[theta][j]\n",
    "#'''\n",
    "\n",
    "#''' NEW WAY\n",
    "#height = img.shape[0]\n",
    "#width = img.shape[1]\n",
    "R = np.zeros((height, width)) # reconstructed image, call it R\n",
    "\n",
    "#tot_angles = 180\n",
    "#angle_index = 0\n",
    "\n",
    "#for i in range(height):\n",
    "#    for j in range(width):\n",
    "#        for theta in range(tot_angles):\n",
    "#            R[i][j] += S[theta][j]\n",
    "\n",
    "tot_angles = int(180.0/delta) # number of times to loop\n",
    "angle_index = 0\n",
    "\n",
    "for i in range(height):\n",
    "    for j in range(width):\n",
    "        R[i][j] = np.sum(S[])\n",
    "        #for t in range(tot_angles):\n",
    "        #    R[i][j] += S[t][i]\n",
    "\n",
    "#'''"
   ]
  },
  {
   "cell_type": "code",
   "execution_count": 201,
   "metadata": {},
   "outputs": [
    {
     "data": {
      "text/plain": [
       "<matplotlib.image.AxesImage at 0x7f7d96588580>"
      ]
     },
     "execution_count": 201,
     "metadata": {},
     "output_type": "execute_result"
    },
    {
     "data": {
      "image/png": "[encoded data removed]",
      "text/plain": [
       "<Figure size 432x288 with 1 Axes>"
      ]
     },
     "metadata": {
      "needs_background": "light"
     },
     "output_type": "display_data"
    }
   ],
   "source": [
    "# TODO: plot reconstructed image\n",
    "plt.imshow(R, cmap='gray', origin='lower')"
   ]
  }
 ],
 "metadata": {
  "kernelspec": {
   "display_name": "Python 3",
   "language": "python",
   "name": "python3"
  },
  "language_info": {
   "codemirror_mode": {
    "name": "ipython",
    "version": 3
   },
   "file_extension": ".py",
   "mimetype": "text/x-python",
   "name": "python",
   "nbconvert_exporter": "python",
   "pygments_lexer": "ipython3",
   "version": "3.8.3"
  }
 },
 "nbformat": 4,
 "nbformat_minor": 4
}
